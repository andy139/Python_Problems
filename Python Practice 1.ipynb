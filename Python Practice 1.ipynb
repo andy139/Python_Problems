{
 "cells": [
  {
   "cell_type": "markdown",
   "metadata": {},
   "source": [
    "# Practice Python Problems To Level Up\n",
    "\n",
    "My solutions and progress"
   ]
  },
  {
   "cell_type": "markdown",
   "metadata": {},
   "source": [
    "## Count Vowels\n",
    "Write a method, count_vowels(word), that takes in a string word and returns the number of vowels in the word. Vowels are the letters a, e, i, o, u.\n",
    "\n",
    "puts count_vowels(\"bootcamp\")  # => 3\n",
    "puts count_vowels(\"apple\")     # => 2\n",
    "puts count_vowels(\"pizza\")     # => 2\n"
   ]
  },
  {
   "cell_type": "code",
   "execution_count": 33,
   "metadata": {},
   "outputs": [],
   "source": [
    "def split(x):\n",
    "    return [char for char in x] # Just testing out function to split word\n",
    "   \n",
    "def count_vowels(word):\n",
    "    total = 0\n",
    "    for vowels in split(word):\n",
    "        if vowels in 'aeiou':\n",
    "            total = total + 1\n",
    "    return total\n",
    "        \n"
   ]
  },
  {
   "cell_type": "code",
   "execution_count": 37,
   "metadata": {},
   "outputs": [
    {
     "data": {
      "text/plain": [
       "2"
      ]
     },
     "execution_count": 37,
     "metadata": {},
     "output_type": "execute_result"
    }
   ],
   "source": [
    "count_vowels('pizza')"
   ]
  },
  {
   "cell_type": "markdown",
   "metadata": {},
   "source": [
    "## Sum Nums\n",
    "\n",
    "Write a method sum_nums(max) that takes in a number max and returns the sum of all numbers from 1 up to and including max.\n",
    "puts sum_nums(4) # => 10, because 1 + 2 + 3 + 4 = 10\n",
    "puts sum_nums(5) # => 15\n"
   ]
  },
  {
   "cell_type": "code",
   "execution_count": 46,
   "metadata": {},
   "outputs": [],
   "source": [
    "def sum_nums(max):\n",
    "    return sum(list(range(1,max+1)))"
   ]
  },
  {
   "cell_type": "code",
   "execution_count": 53,
   "metadata": {},
   "outputs": [
    {
     "data": {
      "text/plain": [
       "10"
      ]
     },
     "execution_count": 53,
     "metadata": {},
     "output_type": "execute_result"
    }
   ],
   "source": [
    "list(range(1,10+1))\n",
    "sum_nums(4)"
   ]
  },
  {
   "cell_type": "markdown",
   "metadata": {},
   "source": [
    "## Factorial\n",
    "\n",
    "Write a method factorial(num) that takes in a number num and returns the product of all numbers from 1 up to and including num.\n",
    "\n",
    "puts factorial(3) # => 6, because 1 * 2 * 3 = 6\n",
    "puts factorial(5) # => 120, because 1 * 2 * 3 * 4 * 5 = 120\n"
   ]
  },
  {
   "cell_type": "code",
   "execution_count": 57,
   "metadata": {},
   "outputs": [],
   "source": [
    "def factorial(num):\n",
    "    if num==1:\n",
    "        return num\n",
    "    else:\n",
    "        return num*factorial(num-1)\n",
    "## Recursion Method"
   ]
  },
  {
   "cell_type": "code",
   "execution_count": null,
   "metadata": {},
   "outputs": [],
   "source": [
    "def factorial(num):\n",
    "    while num < 0 :\n",
    "        "
   ]
  },
  {
   "cell_type": "code",
   "execution_count": 58,
   "metadata": {},
   "outputs": [
    {
     "data": {
      "text/plain": [
       "120"
      ]
     },
     "execution_count": 58,
     "metadata": {},
     "output_type": "execute_result"
    }
   ],
   "source": [
    "factorial(5)"
   ]
  },
  {
   "cell_type": "markdown",
   "metadata": {},
   "source": [
    "## Reverse\n",
    "\n",
    "Write a method reverse(word) that takes in a string word and returns the word with its letters in reverse order.\n",
    "\n",
    "puts reverse(\"cat\")          # => \"tac\"\n",
    "puts reverse(\"programming\")  # => \"gnimmargorp\"\n",
    "puts reverse(\"bootcamp\")     # => \"pmactoob\"\n"
   ]
  },
  {
   "cell_type": "code",
   "execution_count": 60,
   "metadata": {},
   "outputs": [],
   "source": [
    "def reverse(word):\n",
    "    reverse = ''\n",
    "    for x in word:\n",
    "        reverse = x + reverse\n",
    "    return reverse\n"
   ]
  },
  {
   "cell_type": "code",
   "execution_count": 61,
   "metadata": {},
   "outputs": [
    {
     "data": {
      "text/plain": [
       "'drow'"
      ]
     },
     "execution_count": 61,
     "metadata": {},
     "output_type": "execute_result"
    }
   ],
   "source": [
    "reverse('word')"
   ]
  },
  {
   "cell_type": "markdown",
   "metadata": {},
   "source": [
    "## First Half\n",
    "\n",
    "Write a method first_half(array) that takes in an array and returns a new array containing the first half of the elements in the array. If there is an odd number of elements, return the first half including the middle element.\n",
    "\n",
    "print first_half([\"Brian\", \"Abby\", \"David\", \"Ommi\"]) # => [\"Brian\", \"Abby\"]\n",
    "print first_half([\"a\", \"b\", \"c\", \"d\", \"e\"])          # => [\"a\", \"b\", \"c\"]\n"
   ]
  },
  {
   "cell_type": "code",
   "execution_count": null,
   "metadata": {},
   "outputs": [],
   "source": []
  },
  {
   "cell_type": "markdown",
   "metadata": {},
   "source": [
    "## Fizz Buzz\n",
    "Write a method fizz_buzz(max) that takes in a number max and returns an array containing all numbers greater than 0 and less than max that are divisible by either 4 or 6, but not both\n",
    "print fizz_buzz(20) # => [4, 6, 8, 16, 18]\n",
    "print fizz_buzz(15) # => [4, 6, 8]\n"
   ]
  },
  {
   "cell_type": "markdown",
   "metadata": {},
   "source": [
    "## Is Valid Email\n",
    "\n",
    "Write a method is_valid_email that takes in a string and returns a boolean indicating whether or not it is a valid email address.\n",
    "### For simplicity, we'll consider an email valid when it satisfies all of the following:\n",
    "### - contains exactly one @ symbol\n",
    "### - contains only lowercase alphabetic letters before the @\n",
    "### - contains exactly one . after the @\n",
    "puts is_valid_email(\"abc@xy.z\")         # => true\n",
    "puts is_valid_email(\"jdoe@gmail.com\")   # => true\n",
    "puts is_valid_email(\"jdoe@g@mail.com\")  # => false\n",
    "puts is_valid_email(\"jdoe42@gmail.com\") # => false\n",
    "puts is_valid_email(\"jdoegmail.com\")    # => false\n",
    "puts is_valid_email(\"az@email\")         # => false\n"
   ]
  },
  {
   "cell_type": "code",
   "execution_count": null,
   "metadata": {},
   "outputs": [],
   "source": []
  },
  {
   "cell_type": "markdown",
   "metadata": {},
   "source": [
    "## Pig Latin Word\n",
    "\n",
    "Write a method pig_latin_word that takes in a word string and translates the word into pig latin.\n",
    "\n",
    "### Pig latin translation uses the following rules:\n",
    "### - for words that start with a vowel, add 'yay' to the end\n",
    "### - for words that start with a nonvowel, move all letters before the first vowel to the end of the word and add 'ay'\n",
    "puts pig_latin_word(\"apple\")   # => \"appleyay\"\n",
    "puts pig_latin_word(\"eat\")     # => \"eatyay\"\n",
    "puts pig_latin_word(\"banana\")  # => \"ananabay\"\n",
    "puts pig_latin_word(\"trash\")   # => \"ashtray\"\n",
    "\n"
   ]
  },
  {
   "cell_type": "code",
   "execution_count": 63,
   "metadata": {},
   "outputs": [],
   "source": [
    "def pig_latin_word(word):\n",
    "    first_letter = word[0]\n",
    "    if first_letter in 'aeiou':\n",
    "        pig_word = word + 'ay'\n",
    "    else:\n",
    "        pig_word = word[1:] + first_letter + 'ay'\n",
    "    return pig_word"
   ]
  },
  {
   "cell_type": "code",
   "execution_count": 65,
   "metadata": {},
   "outputs": [
    {
     "data": {
      "text/plain": [
       "'mdsay'"
      ]
     },
     "execution_count": 65,
     "metadata": {},
     "output_type": "execute_result"
    }
   ],
   "source": [
    "pig_latin_word('smd')"
   ]
  }
 ],
 "metadata": {
  "kernelspec": {
   "display_name": "Python 3",
   "language": "python",
   "name": "python3"
  },
  "language_info": {
   "codemirror_mode": {
    "name": "ipython",
    "version": 3
   },
   "file_extension": ".py",
   "mimetype": "text/x-python",
   "name": "python",
   "nbconvert_exporter": "python",
   "pygments_lexer": "ipython3",
   "version": "3.7.3"
  }
 },
 "nbformat": 4,
 "nbformat_minor": 2
}
